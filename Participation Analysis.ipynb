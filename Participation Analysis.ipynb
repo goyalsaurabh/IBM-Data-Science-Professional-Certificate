{
    "cells": [
        {
            "metadata": {},
            "cell_type": "code",
            "source": "\n// @hidden_cell\nimport com.ibm.ibmos2spark.CloudObjectStorage\nvar configurationName = \"os_95f5635541644fb58281a6a915e4daa2_configs\"\ndef getCredentials(): scala.collection.mutable.HashMap[String, String] = {\n    return scala.collection.mutable.HashMap[String, String] (\n    \"endPoint\"-> \"https://s3.private.us.cloud-object-storage.appdomain.cloud\",\n    \"apiKey\"->\"xkOmB9ESU2o7mmqmqPyD4WuxkDUVIIikpGQrCXD3rJC2\",\n    \"serviceId\"->\"iam-ServiceId-1c74196f-0c3e-4858-949e-bb58d543fbb4\",\n    \"iamServiceEndpoint\" -> \"https://iam.cloud.ibm.com/oidc/token\")\n}\n\nvar cos = new CloudObjectStorage(sc, getCredentials(), configurationName, \"bluemix_cos\")\n\nimport org.apache.spark.sql.SparkSession\nval spark = SparkSession.\n    builder().\n    getOrCreate()\nval dfData1 = spark.\n    read.format(\"org.apache.spark.sql.execution.datasources.csv.CSVFileFormat\").\n    option(\"header\", \"true\").\n    option(\"inferSchema\", \"true\").\n    load(cos.url(\"testproject-donotdelete-pr-pvd1z6ds1dtvhn\", \"PRESCRIPTIONS.csv\"))\ndfData1.show(5)\n",
            "execution_count": 1,
            "outputs": [
                {
                    "output_type": "stream",
                    "text": "+------+----------+-------+----------+-------------------+-------------------+---------+--------------------+--------------------+--------------------+-----------------+-----+---------+----------------+-----------+------------+-------------+--------------+-----+\n|row_id|subject_id|hadm_id|icustay_id|          startdate|            enddate|drug_type|                drug|       drug_name_poe|   drug_name_generic|formulary_drug_cd|  gsn|      ndc|   prod_strength|dose_val_rx|dose_unit_rx|form_val_disp|form_unit_disp|route|\n+------+----------+-------+----------+-------------------+-------------------+---------+--------------------+--------------------+--------------------+-----------------+-----+---------+----------------+-----------+------------+-------------+--------------+-----+\n| 32600|     42458| 159647|      null|2146-07-21 00:00:00|2146-07-22 00:00:00|     MAIN|Pneumococcal Vac ...|Pneumococcal Vac ...|PNEUMOcoccal Vac ...|          PNEU25I|48548|  6494300|25mcg/0.5mL Vial|        0.5|          mL|            1|          VIAL|   IM|\n| 32601|     42458| 159647|      null|2146-07-21 00:00:00|2146-07-22 00:00:00|     MAIN|           Bisacodyl|           Bisacodyl|           Bisacodyl|            BISA5| 2947|536338101|        5 mg Tab|         10|          mg|            2|           TAB|   PO|\n| 32602|     42458| 159647|      null|2146-07-21 00:00:00|2146-07-22 00:00:00|     MAIN|           Bisacodyl|           Bisacodyl|  Bisacodyl (Rectal)|          BISA10R| 2944|574705050|10mg Suppository|         10|          mg|            1|          SUPP|   PR|\n| 32603|     42458| 159647|      null|2146-07-21 00:00:00|2146-07-22 00:00:00|     MAIN|               Senna|               Senna|               Senna|          SENN187|19964|904516561|        1 Tablet|          1|         TAB|            1|           TAB|   PO|\n| 32604|     42458| 159647|      null|2146-07-21 00:00:00|2146-07-21 00:00:00|     MAIN|Docusate Sodium (...|Docusate Sodium (...|Docusate Sodium (...|         DOCU100L| 3017|121054410|    100mg UD Cup|        100|          mg|            1|         UDCUP|   PO|\n+------+----------+-------+----------+-------------------+-------------------+---------+--------------------+--------------------+--------------------+-----------------+-----+---------+----------------+-----------+------------+-------------+--------------+-----+\nonly showing top 5 rows\n\n",
                    "name": "stdout"
                },
                {
                    "output_type": "display_data",
                    "data": {
                        "text/plain": "configurationName = os_95f5635541644fb58281a6a915e4daa2_configs\ncos = com.ibm.ibmos2spark.CloudObjectStorage@de5a5d8d\nspark = org.apache.spark.sql.SparkSession@d2d7a99f\ndfData1 = [row_id: int, subject_id: int ... 17 more fields]\n"
                    },
                    "metadata": {}
                },
                {
                    "output_type": "display_data",
                    "data": {
                        "text/plain": "getCredentials: ()scala.collection.mutable.HashMap[String,String]\n"
                    },
                    "metadata": {}
                },
                {
                    "output_type": "execute_result",
                    "execution_count": 1,
                    "data": {
                        "text/plain": "[row_id: int, subject_id: int ... 17 more fields]"
                    },
                    "metadata": {}
                }
            ]
        },
        {
            "metadata": {},
            "cell_type": "code",
            "source": "",
            "execution_count": null,
            "outputs": []
        }
    ],
    "metadata": {
        "kernelspec": {
            "name": "scala",
            "display_name": "Scala 2.12 with Spark",
            "language": "scala"
        },
        "language_info": {
            "name": "scala",
            "version": "2.12.12",
            "file_extension": ".scala",
            "pygments_lexer": "scala",
            "mimetype": "text/x-scala",
            "codemirror_mode": "text/x-scala"
        }
    },
    "nbformat": 4,
    "nbformat_minor": 1
}