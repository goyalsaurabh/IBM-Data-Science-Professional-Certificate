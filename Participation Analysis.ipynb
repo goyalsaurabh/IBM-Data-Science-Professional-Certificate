{
    "cells": [
        {
            "cell_type": "code",
            "execution_count": 1,
            "metadata": {},
            "outputs": [
                {
                    "name": "stdout",
                    "output_type": "stream",
                    "text": "+------+----------+-------+----------+-------------------+-------------------+---------+--------------------+--------------------+--------------------+-----------------+-----+---------+----------------+-----------+------------+-------------+--------------+-----+\n|row_id|subject_id|hadm_id|icustay_id|          startdate|            enddate|drug_type|                drug|       drug_name_poe|   drug_name_generic|formulary_drug_cd|  gsn|      ndc|   prod_strength|dose_val_rx|dose_unit_rx|form_val_disp|form_unit_disp|route|\n+------+----------+-------+----------+-------------------+-------------------+---------+--------------------+--------------------+--------------------+-----------------+-----+---------+----------------+-----------+------------+-------------+--------------+-----+\n| 32600|     42458| 159647|      null|2146-07-21 00:00:00|2146-07-22 00:00:00|     MAIN|Pneumococcal Vac ...|Pneumococcal Vac ...|PNEUMOcoccal Vac ...|          PNEU25I|48548|  6494300|25mcg/0.5mL Vial|        0.5|          mL|            1|          VIAL|   IM|\n| 32601|     42458| 159647|      null|2146-07-21 00:00:00|2146-07-22 00:00:00|     MAIN|           Bisacodyl|           Bisacodyl|           Bisacodyl|            BISA5| 2947|536338101|        5 mg Tab|         10|          mg|            2|           TAB|   PO|\n| 32602|     42458| 159647|      null|2146-07-21 00:00:00|2146-07-22 00:00:00|     MAIN|           Bisacodyl|           Bisacodyl|  Bisacodyl (Rectal)|          BISA10R| 2944|574705050|10mg Suppository|         10|          mg|            1|          SUPP|   PR|\n| 32603|     42458| 159647|      null|2146-07-21 00:00:00|2146-07-22 00:00:00|     MAIN|               Senna|               Senna|               Senna|          SENN187|19964|904516561|        1 Tablet|          1|         TAB|            1|           TAB|   PO|\n| 32604|     42458| 159647|      null|2146-07-21 00:00:00|2146-07-21 00:00:00|     MAIN|Docusate Sodium (...|Docusate Sodium (...|Docusate Sodium (...|         DOCU100L| 3017|121054410|    100mg UD Cup|        100|          mg|            1|         UDCUP|   PO|\n+------+----------+-------+----------+-------------------+-------------------+---------+--------------------+--------------------+--------------------+-----------------+-----+---------+----------------+-----------+------------+-------------+--------------+-----+\nonly showing top 5 rows\n\n"
                },
                {
                    "data": {
                        "text/plain": "configurationName = os_95f5635541644fb58281a6a915e4daa2_configs\ncos = com.ibm.ibmos2spark.CloudObjectStorage@de5a5d8d\nspark = org.apache.spark.sql.SparkSession@d2d7a99f\ndfData1 = [row_id: int, subject_id: int ... 17 more fields]\n"
                    },
                    "metadata": {},
                    "output_type": "display_data"
                },
                {
                    "data": {
                        "text/plain": "getCredentials: ()scala.collection.mutable.HashMap[String,String]\n"
                    },
                    "metadata": {},
                    "output_type": "display_data"
                },
                {
                    "data": {
                        "text/plain": "[row_id: int, subject_id: int ... 17 more fields]"
                    },
                    "execution_count": 1,
                    "metadata": {},
                    "output_type": "execute_result"
                }
            ],
            "source": "// The code was removed by Watson Studio for sharing."
        },
        {
            "cell_type": "code",
            "execution_count": null,
            "metadata": {},
            "outputs": [],
            "source": ""
        }
    ],
    "metadata": {
        "kernelspec": {
            "display_name": "Scala 2.12 with Spark",
            "language": "scala",
            "name": "scala"
        },
        "language_info": {
            "codemirror_mode": "text/x-scala",
            "file_extension": ".scala",
            "mimetype": "text/x-scala",
            "name": "scala",
            "pygments_lexer": "scala",
            "version": "2.12.12"
        }
    },
    "nbformat": 4,
    "nbformat_minor": 1
}